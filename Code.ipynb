{
 "cells": [
  {
   "cell_type": "code",
   "execution_count": 1,
   "metadata": {
    "collapsed": false,
    "deletable": true,
    "editable": true
   },
   "outputs": [],
   "source": [
    "# UPDATE LOG\n",
    "# Iteration    Date          Changes\n",
    "#-------------------------------------------------------------------------------------------------------------------------------\n",
    "# 1            22-Feb-2017    First attempt at code.\n",
    "#\n",
    "# 2            24-Feb-2017    Added the objective of maximizing the minimum happiness.\n",
    "#                             Added the objective that a meeting with *someone* is better than a meeting with no one.\n",
    "#\n",
    "# 3            26-Feb-2017    Changed the mapping between the choice rank and happiness points so that more points are given to the top choices.\n",
    "#                             Addedd a faculty-focused output.\n",
    "#                             Changed \"Student Preferences\" to \"Visitor Preferences\" for consistency.\n",
    "\n",
    "# Potential Improvements\n",
    "# - Add automatic detection and correction of NA rows.\n",
    "\n",
    "# #Add packages as necessary\n",
    "# Pkg.update()\n",
    "# Pkg.add(\"JuMP\")\n",
    "# Pkg.add(\"Clp\")\n",
    "# Pkg.add(\"DataFrames\")"
   ]
  },
  {
   "cell_type": "markdown",
   "metadata": {
    "deletable": true,
    "editable": true
   },
   "source": [
    "# Define Helper Functions"
   ]
  },
  {
   "cell_type": "code",
   "execution_count": 2,
   "metadata": {
    "collapsed": false,
    "deletable": true,
    "editable": true
   },
   "outputs": [
    {
     "data": {
      "text/plain": [
       "prefPoints (generic function with 1 method)"
      ]
     },
     "execution_count": 2,
     "metadata": {},
     "output_type": "execute_result"
    }
   ],
   "source": [
    "function prefPoints(choice::Int64)\n",
    "    # This function assigns a specific \"happiness point\" value to the meeting with a visitor's (choice)th choice faculty\n",
    "    #\n",
    "    # Input:\n",
    "    #  choice = a positive integer specify the ranking of a faculty member in a student's mind.  For example, if Prof. Barton is visitor Johnny's first choice, then choice = 1.  Furthermore, if Prof. Braatz is Johnny's second choice, then choice = 2, and so on.\n",
    "    #\n",
    "    # Output:\n",
    "    #  points = the happiness point value associated with giving Johnny a meeting with his (choice)th choice professor.\n",
    "    \n",
    "    # calculate the number of points\n",
    "    points = (10 - choice + 1)^2\n",
    "    \n",
    "    return points\n",
    "end"
   ]
  },
  {
   "cell_type": "markdown",
   "metadata": {
    "deletable": true,
    "editable": true
   },
   "source": [
    "# Read in the Problem Data"
   ]
  },
  {
   "cell_type": "code",
   "execution_count": 3,
   "metadata": {
    "collapsed": false,
    "deletable": true,
    "editable": true
   },
   "outputs": [
    {
     "data": {
      "text/html": [
       "<table class=\"data-frame\"><thead><tr><th></th><th>Faculty</th><th>x11_12_Appts_</th><th>x1_3_Appts_</th></tr></thead><tbody><tr><th>1</th><td>Anderson, Dan</td><td>0</td><td>0</td></tr><tr><th>2</th><td>Armstrong, Bob</td><td>0</td><td>0</td></tr><tr><th>3</th><td>Barton, Paul</td><td>0</td><td>0</td></tr><tr><th>4</th><td>Bazant, Martin</td><td>1</td><td>1</td></tr><tr><th>5</th><td>Blankschtein, Daniel</td><td>1</td><td>1</td></tr><tr><th>6</th><td>Braatz, Richard</td><td>1</td><td>1</td></tr><tr><th>7</th><td>Brushett, Fikile</td><td>1</td><td>1</td></tr><tr><th>8</th><td>Chakraborty, Arup</td><td>NA</td><td>1</td></tr><tr><th>9</th><td>Chung, Kwanghun</td><td>NA</td><td>1</td></tr><tr><th>10</th><td>Cohen, Bob</td><td>0</td><td>0</td></tr><tr><th>11</th><td>Colton, Clark</td><td>NA</td><td>NA</td></tr><tr><th>12</th><td>Cooney, Charles</td><td>0</td><td>0</td></tr><tr><th>13</th><td>Gleason, Karen</td><td>0</td><td>0</td></tr><tr><th>14</th><td>Green, Bill</td><td>0</td><td>0</td></tr><tr><th>15</th><td>Hammond, Paula</td><td>1</td><td>1</td></tr><tr><th>16</th><td>Hatton, Alan</td><td>1</td><td>1</td></tr><tr><th>17</th><td>Jensen, Klavs</td><td>1</td><td>NA</td></tr><tr><th>18</th><td>Kulik, Heather</td><td>NA</td><td>1</td></tr><tr><th>19</th><td>Langer, Bob</td><td>0</td><td>0</td></tr><tr><th>20</th><td>Love, Chris</td><td>1</td><td>1</td></tr><tr><th>21</th><td>Manthiram, Karthish</td><td>1</td><td>1</td></tr><tr><th>22</th><td>Myerson, Allan</td><td>0</td><td>0</td></tr><tr><th>23</th><td>Olsen, Brad</td><td>1</td><td>1</td></tr><tr><th>24</th><td>Prather, Kris</td><td>1</td><td>1</td></tr><tr><th>25</th><td>Roman, Yuriy</td><td>NA</td><td>1</td></tr><tr><th>26</th><td>Rutledge, Greg</td><td>NA</td><td>1</td></tr><tr><th>27</th><td>Sikes, Hadley</td><td>1</td><td>1</td></tr><tr><th>28</th><td>Smith, Zach</td><td>NA</td><td>1</td></tr><tr><th>29</th><td>Stephanopoulos, Greg</td><td>NA</td><td>NA</td></tr><tr><th>30</th><td>Strano, Michael</td><td>0</td><td>0</td></tr><tr><th>&vellip;</th><td>&vellip;</td><td>&vellip;</td><td>&vellip;</td></tr></tbody></table>"
      ],
      "text/plain": [
       "36×3 DataFrames.DataFrame\n",
       "│ Row │ Faculty                │ x11_12_Appts_ │ x1_3_Appts_ │\n",
       "├─────┼────────────────────────┼───────────────┼─────────────┤\n",
       "│ 1   │ \"Anderson, Dan\"        │ 0             │ 0           │\n",
       "│ 2   │ \"Armstrong, Bob\"       │ 0             │ 0           │\n",
       "│ 3   │ \"Barton, Paul\"         │ 0             │ 0           │\n",
       "│ 4   │ \"Bazant, Martin\"       │ 1             │ 1           │\n",
       "│ 5   │ \"Blankschtein, Daniel\" │ 1             │ 1           │\n",
       "│ 6   │ \"Braatz, Richard\"      │ 1             │ 1           │\n",
       "│ 7   │ \"Brushett, Fikile\"     │ 1             │ 1           │\n",
       "│ 8   │ \"Chakraborty, Arup\"    │ NA            │ 1           │\n",
       "│ 9   │ \"Chung, Kwanghun\"      │ NA            │ 1           │\n",
       "│ 10  │ \"Cohen, Bob\"           │ 0             │ 0           │\n",
       "│ 11  │ \"Colton, Clark\"        │ NA            │ NA          │\n",
       "⋮\n",
       "│ 25  │ \"Roman, Yuriy\"         │ NA            │ 1           │\n",
       "│ 26  │ \"Rutledge, Greg\"       │ NA            │ 1           │\n",
       "│ 27  │ \"Sikes, Hadley\"        │ 1             │ 1           │\n",
       "│ 28  │ \"Smith, Zach\"          │ NA            │ 1           │\n",
       "│ 29  │ \"Stephanopoulos, Greg\" │ NA            │ NA          │\n",
       "│ 30  │ \"Strano, Michael\"      │ 0             │ 0           │\n",
       "│ 31  │ \"Swan, Jim\"            │ 1             │ NA          │\n",
       "│ 32  │ \"Tisdale, Will\"        │ 1             │ 1           │\n",
       "│ 33  │ \"Trout, Bernhardt\"     │ 0             │ 0           │\n",
       "│ 34  │ \"Virk, Preetinder\"     │ 0             │ 0           │\n",
       "│ 35  │ \"Wang, Daniel\"         │ 0             │ 0           │\n",
       "│ 36  │ \"Wittrup, Dane\"        │ 1             │ 1           │"
      ]
     },
     "execution_count": 3,
     "metadata": {},
     "output_type": "execute_result"
    }
   ],
   "source": [
    "# Read in the faculty availability\n",
    "using DataFrames, DataArrays\n",
    "raw = readtable(\"Faculty Availability.csv\")"
   ]
  },
  {
   "cell_type": "code",
   "execution_count": 4,
   "metadata": {
    "collapsed": false,
    "deletable": true,
    "editable": true
   },
   "outputs": [
    {
     "data": {
      "text/html": [
       "<table class=\"data-frame\"><thead><tr><th></th><th>Faculty</th><th>x11_12_Appts_</th><th>x1_3_Appts_</th></tr></thead><tbody><tr><th>1</th><td>Swan, Jim</td><td>1</td><td>NA</td></tr><tr><th>2</th><td>Tisdale, Will</td><td>1</td><td>1</td></tr><tr><th>3</th><td>Trout, Bernhardt</td><td>0</td><td>0</td></tr><tr><th>4</th><td>Virk, Preetinder</td><td>0</td><td>0</td></tr><tr><th>5</th><td>Wang, Daniel</td><td>0</td><td>0</td></tr><tr><th>6</th><td>Wittrup, Dane</td><td>1</td><td>1</td></tr></tbody></table>"
      ],
      "text/plain": [
       "6×3 DataFrames.DataFrame\n",
       "│ Row │ Faculty            │ x11_12_Appts_ │ x1_3_Appts_ │\n",
       "├─────┼────────────────────┼───────────────┼─────────────┤\n",
       "│ 1   │ \"Swan, Jim\"        │ 1             │ NA          │\n",
       "│ 2   │ \"Tisdale, Will\"    │ 1             │ 1           │\n",
       "│ 3   │ \"Trout, Bernhardt\" │ 0             │ 0           │\n",
       "│ 4   │ \"Virk, Preetinder\" │ 0             │ 0           │\n",
       "│ 5   │ \"Wang, Daniel\"     │ 0             │ 0           │\n",
       "│ 6   │ \"Wittrup, Dane\"    │ 1             │ 1           │"
      ]
     },
     "execution_count": 4,
     "metadata": {},
     "output_type": "execute_result"
    }
   ],
   "source": [
    "tail(raw)"
   ]
  },
  {
   "cell_type": "code",
   "execution_count": 5,
   "metadata": {
    "collapsed": false,
    "deletable": true,
    "editable": true
   },
   "outputs": [],
   "source": [
    "# describe the input table\n",
    "nameCol = 1\n",
    "morningAvailabilityCol = 2\n",
    "afternoonAvailabilityCol = 3\n",
    "\n",
    "# count the number of faculty\n",
    "n_F = size(raw,1)\n",
    "F = 1:n_F\n",
    "\n",
    "# extract the faculty namese\n",
    "facultyNames = raw[:,nameCol]\n",
    "\n",
    "# specify the number of time periods\n",
    "n_T = 6\n",
    "T = 1:n_T\n",
    "\n",
    "# initialize the availability matrix\n",
    "A = zeros(Int64,n_F,n_T)\n",
    "\n",
    "# extract each faculty member's availability\n",
    "for f in F\n",
    "    # fill in the morning availability\n",
    "    if typeof(raw[f,morningAvailabilityCol]) == Int64 && raw[f,morningAvailabilityCol] == 1\n",
    "        A[f,[1 2]] = 1\n",
    "    end\n",
    "    \n",
    "    #fill in the afternoon availability\n",
    "    if typeof(raw[f,afternoonAvailabilityCol]) == Int64 && raw[f,afternoonAvailabilityCol] == 1\n",
    "        A[f,[3 4 5 6]] = 1\n",
    "    end\n",
    "end"
   ]
  },
  {
   "cell_type": "code",
   "execution_count": 6,
   "metadata": {
    "collapsed": false,
    "deletable": true,
    "editable": true
   },
   "outputs": [
    {
     "data": {
      "text/html": [
       "<table class=\"data-frame\"><thead><tr><th></th><th>Last_First</th><th>x1</th><th>x2</th><th>x3</th><th>x4</th><th>x5</th><th>x6</th><th>x7</th><th>x8</th><th>x9</th><th>x10</th></tr></thead><tbody><tr><th>1</th><td>Adams, Jeremy</td><td>Anderson</td><td>Chakraborty</td><td>Chung</td><td>Hammond</td><td>Langer</td><td>Prather</td><td>Sikes</td><td>Stephanopoulos</td><td>Wang</td><td>Wittrup</td></tr><tr><th>2</th><td>Bhagchandani, Sachin</td><td>Hammond</td><td>Olsen</td><td>Cohen</td><td>Anderson</td><td>Chung</td><td>Sikes</td><td>Hatton</td><td>Love</td><td>Strano</td><td>Rutledge</td></tr><tr><th>3</th><td>Biedermann, Andrew</td><td>Prather</td><td>Stephanopoulos</td><td>Love</td><td>Barton</td><td>Chung</td><td>Chakraborty</td><td>Brushett</td><td>Trout</td><td>Wittrup</td><td>Sikes</td></tr><tr><th>4</th><td>Chen, Liang-Hsun</td><td>Smith</td><td>Gleason</td><td>Rutledge</td><td>Hammond</td><td>Jensen</td><td>Manthiram</td><td>Roman</td><td>Strano</td><td>Sikes</td><td>Brushett</td></tr><tr><th>5</th><td>Juthani, Nidhi (PHDCEP)</td><td>Lauffenburger</td><td>Hammond</td><td>Langer</td><td>Strano</td><td>Anderson</td><td>Trout</td><td>Sikes</td><td>Prather</td><td>Chakraborty</td><td>Chung</td></tr><tr><th>6</th><td>Kwon, Soonhyoung</td><td>Olsen</td><td>Strano</td><td>Gleason</td><td>Chung</td><td>Smith</td><td>Manthiram</td><td>Rutledge</td><td>Langer</td><td>Tisdale</td><td>Green</td></tr><tr><th>7</th><td>Lee, Robert</td><td>Love</td><td>Prather</td><td>Sikes</td><td>Stephanopoulos</td><td>Wittrup</td><td>Anderson</td><td>Chakraborty</td><td>Hammond</td><td>Langer</td><td>Trout</td></tr><tr><th>8</th><td>Nambiar, Anirudh Manoj Kumar</td><td>Jensen</td><td>Hatton</td><td>Manthiram</td><td>Roman</td><td>Smith</td><td>Trout</td><td>Doyle</td><td>Brushett</td><td>Green</td><td>Myerson</td></tr><tr><th>9</th><td>Palmeri, Joseph</td><td>Langer</td><td>Anderson</td><td>Wittrup</td><td>Hammond</td><td>Blankschtein</td><td>Trout</td><td>Doyle</td><td>Swan</td><td>Love</td><td>Olsen</td></tr><tr><th>10</th><td>Pujari, Srinivasa</td><td>Chung</td><td>Doyle</td><td>Armstrong</td><td>Love</td><td>Chakraborty</td><td>Sikes</td><td>Langer</td><td>Colton</td><td>Stephanopoulos</td><td>Jensen</td></tr><tr><th>11</th><td>Rodby, Kara</td><td>Brushett</td><td>Manthiram</td><td>Roman</td><td>Strano</td><td>Tisdale</td><td>Bazant</td><td>Stephanopoulos</td><td>Jensen</td><td>Olsen</td><td>Wang</td></tr><tr><th>12</th><td>Rudnicki, Paul</td><td>Kulik</td><td>Green</td><td>Braatz</td><td>Rutledge</td><td>Lauffenburger</td><td>Armstrong</td><td>Barton</td><td>Swan</td><td>Manthiram</td><td>Roman</td></tr><tr><th>13</th><td>Shen, Henry</td><td>Roman</td><td>Langer</td><td>Manthiram</td><td>Sikes</td><td>Hammond</td><td>Blankschtein</td><td>Jensen</td><td>Green</td><td>Smith</td><td>Chakraborty</td></tr><tr><th>14</th><td>Song, Chen</td><td>Cohen</td><td>Doyle</td><td>Blankschtein</td><td>Strano</td><td>Gleason</td><td>Hatton</td><td>Rutledge</td><td>Smith</td><td>Sawin</td><td>Chung</td></tr><tr><th>15</th><td>Wang, Yen-Ting</td><td>Gleason</td><td>Olsen</td><td>Kroll</td><td>Smith</td><td>Cohen</td><td>Rutledge</td><td>Hammond</td><td>Manthiram</td><td>Jensen</td><td>Sikes</td></tr><tr><th>16</th><td>Yang, Jingfan</td><td>Bazant</td><td>Brushett</td><td>Langer</td><td>Roman</td><td>Strano</td><td>Doyle</td><td>Hammond</td><td>Jensen</td><td>Smith</td><td>Tisdale</td></tr><tr><th>17</th><td>Ylitalo, Andrew</td><td>Olsen</td><td>Cohen</td><td>Chakraborty</td><td>Swan</td><td>Hammond</td><td>Stephanopoulos</td><td>Gleason</td><td>Bazant</td><td>Chung</td><td>Doyle</td></tr><tr><th>18</th><td>Zeng, Joy</td><td>Strano</td><td>Jensen</td><td>Gleason</td><td>Doyle</td><td>Roman</td><td>Smith</td><td>Manthiram</td><td>Tisdale</td><td>Rutledge</td><td>Brushett</td></tr></tbody></table>"
      ],
      "text/plain": [
       "18×11 DataFrames.DataFrame\n",
       "│ Row │ Last_First                     │ x1              │ x2               │\n",
       "├─────┼────────────────────────────────┼─────────────────┼──────────────────┤\n",
       "│ 1   │ \"Adams, Jeremy\"                │ \"Anderson\"      │ \"Chakraborty\"    │\n",
       "│ 2   │ \"Bhagchandani, Sachin\"         │ \"Hammond\"       │ \"Olsen\"          │\n",
       "│ 3   │ \"Biedermann, Andrew\"           │ \"Prather\"       │ \"Stephanopoulos\" │\n",
       "│ 4   │ \"Chen, Liang-Hsun\"             │ \"Smith\"         │ \"Gleason\"        │\n",
       "│ 5   │ \"Juthani, Nidhi (PHDCEP)\"      │ \"Lauffenburger\" │ \"Hammond\"        │\n",
       "│ 6   │ \"Kwon, Soonhyoung\"             │ \"Olsen\"         │ \"Strano\"         │\n",
       "│ 7   │ \"Lee, Robert\"                  │ \"Love\"          │ \"Prather\"        │\n",
       "│ 8   │ \"Nambiar, Anirudh Manoj Kumar\" │ \"Jensen\"        │ \"Hatton\"         │\n",
       "│ 9   │ \"Palmeri, Joseph\"              │ \"Langer\"        │ \"Anderson\"       │\n",
       "│ 10  │ \"Pujari, Srinivasa\"            │ \"Chung\"         │ \"Doyle\"          │\n",
       "│ 11  │ \"Rodby, Kara\"                  │ \"Brushett\"      │ \"Manthiram\"      │\n",
       "│ 12  │ \"Rudnicki, Paul\"               │ \"Kulik\"         │ \"Green\"          │\n",
       "│ 13  │ \"Shen, Henry\"                  │ \"Roman\"         │ \"Langer\"         │\n",
       "│ 14  │ \"Song, Chen\"                   │ \"Cohen\"         │ \"Doyle\"          │\n",
       "│ 15  │ \"Wang, Yen-Ting\"               │ \"Gleason\"       │ \"Olsen\"          │\n",
       "│ 16  │ \"Yang, Jingfan\"                │ \"Bazant\"        │ \"Brushett\"       │\n",
       "│ 17  │ \"Ylitalo, Andrew\"              │ \"Olsen\"         │ \"Cohen\"          │\n",
       "│ 18  │ \"Zeng, Joy\"                    │ \"Strano\"        │ \"Jensen\"         │\n",
       "\n",
       "│ Row │ x3             │ x4               │ x5              │ x6               │\n",
       "├─────┼────────────────┼──────────────────┼─────────────────┼──────────────────┤\n",
       "│ 1   │ \"Chung\"        │ \"Hammond\"        │ \"Langer\"        │ \"Prather\"        │\n",
       "│ 2   │ \"Cohen\"        │ \"Anderson\"       │ \"Chung\"         │ \"Sikes\"          │\n",
       "│ 3   │ \"Love\"         │ \"Barton\"         │ \"Chung\"         │ \"Chakraborty\"    │\n",
       "│ 4   │ \"Rutledge\"     │ \"Hammond\"        │ \"Jensen\"        │ \"Manthiram\"      │\n",
       "│ 5   │ \"Langer\"       │ \"Strano\"         │ \"Anderson\"      │ \"Trout\"          │\n",
       "│ 6   │ \"Gleason\"      │ \"Chung\"          │ \"Smith\"         │ \"Manthiram\"      │\n",
       "│ 7   │ \"Sikes\"        │ \"Stephanopoulos\" │ \"Wittrup\"       │ \"Anderson\"       │\n",
       "│ 8   │ \"Manthiram\"    │ \"Roman\"          │ \"Smith\"         │ \"Trout\"          │\n",
       "│ 9   │ \"Wittrup\"      │ \"Hammond\"        │ \"Blankschtein\"  │ \"Trout\"          │\n",
       "│ 10  │ \"Armstrong\"    │ \"Love\"           │ \"Chakraborty\"   │ \"Sikes\"          │\n",
       "│ 11  │ \"Roman\"        │ \"Strano\"         │ \"Tisdale\"       │ \"Bazant\"         │\n",
       "│ 12  │ \"Braatz\"       │ \"Rutledge\"       │ \"Lauffenburger\" │ \"Armstrong\"      │\n",
       "│ 13  │ \"Manthiram\"    │ \"Sikes\"          │ \"Hammond\"       │ \"Blankschtein\"   │\n",
       "│ 14  │ \"Blankschtein\" │ \"Strano\"         │ \"Gleason\"       │ \"Hatton\"         │\n",
       "│ 15  │ \"Kroll\"        │ \"Smith\"          │ \"Cohen\"         │ \"Rutledge\"       │\n",
       "│ 16  │ \"Langer\"       │ \"Roman\"          │ \"Strano\"        │ \"Doyle\"          │\n",
       "│ 17  │ \"Chakraborty\"  │ \"Swan\"           │ \"Hammond\"       │ \"Stephanopoulos\" │\n",
       "│ 18  │ \"Gleason\"      │ \"Doyle\"          │ \"Roman\"         │ \"Smith\"          │\n",
       "\n",
       "│ Row │ x7               │ x8               │ x9               │ x10           │\n",
       "├─────┼──────────────────┼──────────────────┼──────────────────┼───────────────┤\n",
       "│ 1   │ \"Sikes\"          │ \"Stephanopoulos\" │ \"Wang\"           │ \"Wittrup\"     │\n",
       "│ 2   │ \"Hatton\"         │ \"Love\"           │ \"Strano\"         │ \"Rutledge\"    │\n",
       "│ 3   │ \"Brushett\"       │ \"Trout\"          │ \"Wittrup\"        │ \"Sikes\"       │\n",
       "│ 4   │ \"Roman\"          │ \"Strano\"         │ \"Sikes\"          │ \"Brushett\"    │\n",
       "│ 5   │ \"Sikes\"          │ \"Prather\"        │ \"Chakraborty\"    │ \"Chung\"       │\n",
       "│ 6   │ \"Rutledge\"       │ \"Langer\"         │ \"Tisdale\"        │ \"Green\"       │\n",
       "│ 7   │ \"Chakraborty\"    │ \"Hammond\"        │ \"Langer\"         │ \"Trout\"       │\n",
       "│ 8   │ \"Doyle\"          │ \"Brushett\"       │ \"Green\"          │ \"Myerson\"     │\n",
       "│ 9   │ \"Doyle\"          │ \"Swan\"           │ \"Love\"           │ \"Olsen\"       │\n",
       "│ 10  │ \"Langer\"         │ \"Colton\"         │ \"Stephanopoulos\" │ \"Jensen\"      │\n",
       "│ 11  │ \"Stephanopoulos\" │ \"Jensen\"         │ \"Olsen\"          │ \"Wang\"        │\n",
       "│ 12  │ \"Barton\"         │ \"Swan\"           │ \"Manthiram\"      │ \"Roman\"       │\n",
       "│ 13  │ \"Jensen\"         │ \"Green\"          │ \"Smith\"          │ \"Chakraborty\" │\n",
       "│ 14  │ \"Rutledge\"       │ \"Smith\"          │ \"Sawin\"          │ \"Chung\"       │\n",
       "│ 15  │ \"Hammond\"        │ \"Manthiram\"      │ \"Jensen\"         │ \"Sikes\"       │\n",
       "│ 16  │ \"Hammond\"        │ \"Jensen\"         │ \"Smith\"          │ \"Tisdale\"     │\n",
       "│ 17  │ \"Gleason\"        │ \"Bazant\"         │ \"Chung\"          │ \"Doyle\"       │\n",
       "│ 18  │ \"Manthiram\"      │ \"Tisdale\"        │ \"Rutledge\"       │ \"Brushett\"    │"
      ]
     },
     "execution_count": 6,
     "metadata": {},
     "output_type": "execute_result"
    }
   ],
   "source": [
    "# Read in the student preferences\n",
    "raw = readtable(\"Visitor Preferences.csv\")"
   ]
  },
  {
   "cell_type": "code",
   "execution_count": 7,
   "metadata": {
    "collapsed": false,
    "deletable": true,
    "editable": true
   },
   "outputs": [
    {
     "data": {
      "text/html": [
       "<table class=\"data-frame\"><thead><tr><th></th><th>Last_First</th><th>x1</th><th>x2</th><th>x3</th><th>x4</th><th>x5</th><th>x6</th><th>x7</th><th>x8</th><th>x9</th><th>x10</th></tr></thead><tbody><tr><th>1</th><td>Shen, Henry</td><td>Roman</td><td>Langer</td><td>Manthiram</td><td>Sikes</td><td>Hammond</td><td>Blankschtein</td><td>Jensen</td><td>Green</td><td>Smith</td><td>Chakraborty</td></tr><tr><th>2</th><td>Song, Chen</td><td>Cohen</td><td>Doyle</td><td>Blankschtein</td><td>Strano</td><td>Gleason</td><td>Hatton</td><td>Rutledge</td><td>Smith</td><td>Sawin</td><td>Chung</td></tr><tr><th>3</th><td>Wang, Yen-Ting</td><td>Gleason</td><td>Olsen</td><td>Kroll</td><td>Smith</td><td>Cohen</td><td>Rutledge</td><td>Hammond</td><td>Manthiram</td><td>Jensen</td><td>Sikes</td></tr><tr><th>4</th><td>Yang, Jingfan</td><td>Bazant</td><td>Brushett</td><td>Langer</td><td>Roman</td><td>Strano</td><td>Doyle</td><td>Hammond</td><td>Jensen</td><td>Smith</td><td>Tisdale</td></tr><tr><th>5</th><td>Ylitalo, Andrew</td><td>Olsen</td><td>Cohen</td><td>Chakraborty</td><td>Swan</td><td>Hammond</td><td>Stephanopoulos</td><td>Gleason</td><td>Bazant</td><td>Chung</td><td>Doyle</td></tr><tr><th>6</th><td>Zeng, Joy</td><td>Strano</td><td>Jensen</td><td>Gleason</td><td>Doyle</td><td>Roman</td><td>Smith</td><td>Manthiram</td><td>Tisdale</td><td>Rutledge</td><td>Brushett</td></tr></tbody></table>"
      ],
      "text/plain": [
       "6×11 DataFrames.DataFrame\n",
       "│ Row │ Last_First        │ x1        │ x2         │ x3             │ x4       │\n",
       "├─────┼───────────────────┼───────────┼────────────┼────────────────┼──────────┤\n",
       "│ 1   │ \"Shen, Henry\"     │ \"Roman\"   │ \"Langer\"   │ \"Manthiram\"    │ \"Sikes\"  │\n",
       "│ 2   │ \"Song, Chen\"      │ \"Cohen\"   │ \"Doyle\"    │ \"Blankschtein\" │ \"Strano\" │\n",
       "│ 3   │ \"Wang, Yen-Ting\"  │ \"Gleason\" │ \"Olsen\"    │ \"Kroll\"        │ \"Smith\"  │\n",
       "│ 4   │ \"Yang, Jingfan\"   │ \"Bazant\"  │ \"Brushett\" │ \"Langer\"       │ \"Roman\"  │\n",
       "│ 5   │ \"Ylitalo, Andrew\" │ \"Olsen\"   │ \"Cohen\"    │ \"Chakraborty\"  │ \"Swan\"   │\n",
       "│ 6   │ \"Zeng, Joy\"       │ \"Strano\"  │ \"Jensen\"   │ \"Gleason\"      │ \"Doyle\"  │\n",
       "\n",
       "│ Row │ x5        │ x6               │ x7          │ x8          │ x9         │\n",
       "├─────┼───────────┼──────────────────┼─────────────┼─────────────┼────────────┤\n",
       "│ 1   │ \"Hammond\" │ \"Blankschtein\"   │ \"Jensen\"    │ \"Green\"     │ \"Smith\"    │\n",
       "│ 2   │ \"Gleason\" │ \"Hatton\"         │ \"Rutledge\"  │ \"Smith\"     │ \"Sawin\"    │\n",
       "│ 3   │ \"Cohen\"   │ \"Rutledge\"       │ \"Hammond\"   │ \"Manthiram\" │ \"Jensen\"   │\n",
       "│ 4   │ \"Strano\"  │ \"Doyle\"          │ \"Hammond\"   │ \"Jensen\"    │ \"Smith\"    │\n",
       "│ 5   │ \"Hammond\" │ \"Stephanopoulos\" │ \"Gleason\"   │ \"Bazant\"    │ \"Chung\"    │\n",
       "│ 6   │ \"Roman\"   │ \"Smith\"          │ \"Manthiram\" │ \"Tisdale\"   │ \"Rutledge\" │\n",
       "\n",
       "│ Row │ x10           │\n",
       "├─────┼───────────────┤\n",
       "│ 1   │ \"Chakraborty\" │\n",
       "│ 2   │ \"Chung\"       │\n",
       "│ 3   │ \"Sikes\"       │\n",
       "│ 4   │ \"Tisdale\"     │\n",
       "│ 5   │ \"Doyle\"       │\n",
       "│ 6   │ \"Brushett\"    │"
      ]
     },
     "execution_count": 7,
     "metadata": {},
     "output_type": "execute_result"
    }
   ],
   "source": [
    "tail(raw)"
   ]
  },
  {
   "cell_type": "code",
   "execution_count": 8,
   "metadata": {
    "collapsed": false,
    "deletable": true,
    "editable": true
   },
   "outputs": [
    {
     "name": "stdout",
     "output_type": "stream",
     "text": [
      "Warning: Student 'Juthani, Nidhi (PHDCEP)' requested a meeting with 'Lauffenburger', but I can't find this string in the faculty list.  I will skip over this. Please double-check the spelling.\n",
      "\n",
      "Warning: Student 'Nambiar, Anirudh Manoj Kumar' requested a meeting with 'Doyle', but I can't find this string in the faculty list.  I will skip over this. Please double-check the spelling.\n",
      "\n",
      "Warning: Student 'Palmeri, Joseph' requested a meeting with 'Doyle', but I can't find this string in the faculty list.  I will skip over this. Please double-check the spelling.\n",
      "\n",
      "Warning: Student 'Pujari, Srinivasa' requested a meeting with 'Doyle', but I can't find this string in the faculty list.  I will skip over this. Please double-check the spelling.\n",
      "\n",
      "Warning: Student 'Rudnicki, Paul' requested a meeting with 'Lauffenburger', but I can't find this string in the faculty list.  I will skip over this. Please double-check the spelling.\n",
      "\n",
      "Warning: Student 'Song, Chen' requested a meeting with 'Doyle', but I can't find this string in the faculty list.  I will skip over this. Please double-check the spelling.\n",
      "\n",
      "Warning: Student 'Song, Chen' requested a meeting with 'Sawin', but I can't find this string in the faculty list.  I will skip over this. Please double-check the spelling.\n",
      "\n",
      "Warning: Student 'Wang, Yen-Ting' requested a meeting with 'Kroll', but I can't find this string in the faculty list.  I will skip over this. Please double-check the spelling.\n",
      "\n",
      "Warning: Student 'Yang, Jingfan' requested a meeting with 'Doyle', but I can't find this string in the faculty list.  I will skip over this. Please double-check the spelling.\n",
      "\n",
      "Warning: Student 'Ylitalo, Andrew' requested a meeting with 'Doyle', but I can't find this string in the faculty list.  I will skip over this. Please double-check the spelling.\n",
      "\n",
      "Warning: Student 'Zeng, Joy' requested a meeting with 'Doyle', but I can't find this string in the faculty list.  I will skip over this. Please double-check the spelling.\n",
      "\n"
     ]
    }
   ],
   "source": [
    "# describe the input table\n",
    "nameCol = 1;\n",
    "firstPrefCol = 2;\n",
    "\n",
    "# count the number of volunteers\n",
    "n_V = size(raw,1);\n",
    "V = 1:n_V\n",
    "\n",
    "# extract the visitors' names\n",
    "visitorNames = Array{String,1}(n_V);\n",
    "for v in V\n",
    "    visitorNames[v] = raw[v,nameCol]\n",
    "end\n",
    "\n",
    "# initialize the preference matrix \n",
    "P = zeros(Int64,n_V,n_F)\n",
    "\n",
    "# fill out the preference matrix\n",
    "for v in V\n",
    "    \n",
    "    # loop over each visitor's list of names\n",
    "    for c = 1:10\n",
    "        # extract the name corresponding to the cth choice\n",
    "        curName = raw[v,firstPrefCol + c - 1]\n",
    "        \n",
    "        # check for a string\n",
    "        if typeof(curName) == String\n",
    "        \n",
    "            # find the index corresponding to the current faculty member\n",
    "            f = 1\n",
    "            nameFound = false\n",
    "            while nameFound == false && f <= n_F\n",
    "                # extract the faculty name corresponding to f\n",
    "                facName = facultyNames[f]\n",
    "\n",
    "                #compare the two strings\n",
    "                if contains(facName,curName) == true # a match has been found\n",
    "\n",
    "                    #raise the nameFound flag\n",
    "                    nameFound = true\n",
    "\n",
    "                else # no match has been found\n",
    "\n",
    "                    #increment fInd and move on\n",
    "                    f = f + 1         \n",
    "                end\n",
    "\n",
    "            end # ends the while loop\n",
    "\n",
    "            #decide why we exited the while loop\n",
    "            if nameFound == true # the name was found\n",
    "                # update the preference matrix\n",
    "                P[v,f] = prefPoints(c)\n",
    "            else #the name was not found\n",
    "                visName = visitorNames[v]\n",
    "                println(\"Warning: Student '$visName' requested a meeting with '$curName', but I can't find this string in the faculty list.  I will skip over this. Please double-check the spelling.\\n\")\n",
    "            end\n",
    "        else # this is an empty cell\n",
    "            #do nothing for this c\n",
    "        end  #ends the split checking for a valid string\n",
    "        \n",
    "    end\n",
    "end"
   ]
  },
  {
   "cell_type": "markdown",
   "metadata": {
    "deletable": true,
    "editable": true
   },
   "source": [
    "# Define and Solve the Optimization Problem\n",
    "## Initialize the Model and Define the Decision Variables"
   ]
  },
  {
   "cell_type": "code",
   "execution_count": 9,
   "metadata": {
    "collapsed": false,
    "deletable": true,
    "editable": true
   },
   "outputs": [],
   "source": [
    "# Describe the Optimization Problem\n",
    "using JuMP\n",
    "using Cbc\n",
    "\n",
    "m = Model()\n",
    "\n",
    "## define the decision variables\n",
    "@variable(m, x[1:n_V,1:n_F,1:n_T],Bin)\n",
    "@variable(m, y[1:n_V,1:n_T],Bin)\n",
    "@variable(m, h);"
   ]
  },
  {
   "cell_type": "markdown",
   "metadata": {
    "deletable": true,
    "editable": true
   },
   "source": [
    "## Define the Constraints"
   ]
  },
  {
   "cell_type": "code",
   "execution_count": 10,
   "metadata": {
    "collapsed": false,
    "deletable": true,
    "editable": true
   },
   "outputs": [],
   "source": [
    "# define the constraints\n",
    "## constraint 1\n",
    "for v in V, t in T\n",
    "   @constraint(m, sum(x[v,:,t]) + y[v,t] == 1) \n",
    "end\n",
    "\n",
    "## constraint 2\n",
    "for f in F, t in T\n",
    "   @constraint(m, sum(x[:,f,t]) <= 1) \n",
    "end\n",
    "\n",
    "## constraint 3\n",
    "for f in F, t in T\n",
    "   @constraint(m, sum(x[:,f,t]) <= A[f,t]) \n",
    "end\n",
    "\n",
    "## constraint 4\n",
    "for v in V, f in F\n",
    "   @constraint(m, sum(x[v,f,:]) <= 1) \n",
    "end\n",
    "\n",
    "## constraint 5\n",
    "for v in V\n",
    "   @constraint(m, sum(y[v,:]) >= 1) \n",
    "end\n",
    "\n",
    "## constraint 6\n",
    "for v in V\n",
    "   @constraint(m, sum(y[v,:]) <= 3) \n",
    "end\n",
    "\n",
    "## constraint 7\n",
    "for v in V\n",
    "   @constraint(m, sum(x[v,f,t].*P[v,f] for f in F, t in T) >= h) \n",
    "end"
   ]
  },
  {
   "cell_type": "markdown",
   "metadata": {
    "deletable": true,
    "editable": true
   },
   "source": [
    "# Define the Objective Function"
   ]
  },
  {
   "cell_type": "code",
   "execution_count": 11,
   "metadata": {
    "collapsed": false,
    "deletable": true,
    "editable": true
   },
   "outputs": [],
   "source": [
    "# specify the weighting factors for the secondary objectives\n",
    "w_meet = 1\n",
    "w_min = 1\n",
    "\n",
    "# construct the objective coefficient matrices\n",
    "c_1 = zeros(n_V,n_F,n_T)\n",
    "for v in V, f in F\n",
    "    c_1[v,f,:] = P[v,f]\n",
    "end\n",
    "\n",
    "c_2 = zeros(n_V,n_F,n_T)\n",
    "for v in V, f in F\n",
    "    c_2[v,f,:] = w_meet\n",
    "end\n",
    "\n",
    "c_3 = w_min\n",
    "\n",
    "c = c_1 + c_2\n",
    "\n",
    "# define the objective function\n",
    "@objective(m,Max,sum(sum(sum(c.*x))) + c_3*h);"
   ]
  },
  {
   "cell_type": "markdown",
   "metadata": {
    "deletable": true,
    "editable": true
   },
   "source": [
    "## Solve the Optimization Problem"
   ]
  },
  {
   "cell_type": "code",
   "execution_count": 12,
   "metadata": {
    "collapsed": false,
    "deletable": true,
    "editable": true
   },
   "outputs": [
    {
     "name": "stdout",
     "output_type": "stream",
     "text": [
      "Optimal\n"
     ]
    }
   ],
   "source": [
    "# Solve the Optimization Problem\n",
    "status = solve(m)\n",
    "println(status)\n",
    "\n",
    "# extract the numerical solution\n",
    "x = round(Int,getvalue(x))\n",
    "y = round(Int,getvalue(y));\n"
   ]
  },
  {
   "cell_type": "markdown",
   "metadata": {
    "deletable": true,
    "editable": true
   },
   "source": [
    "# Export the Results\n",
    "## Export Visitor-Focused Table"
   ]
  },
  {
   "cell_type": "code",
   "execution_count": 13,
   "metadata": {
    "collapsed": false,
    "deletable": true,
    "editable": true
   },
   "outputs": [],
   "source": [
    "# initialize the schedule\n",
    "schedule = Array{String,2}(n_V,n_T)\n",
    "happiness = zeros(Float64,n_V)\n",
    "firstChoice = Array{String,1}(n_V)\n",
    "secondChoice = Array{String,1}(n_V)\n",
    "thirdChoice = Array{String,1}(n_V)\n",
    "fill!(firstChoice,\"\")\n",
    "fill!(secondChoice,\"\")\n",
    "fill!(thirdChoice,\"\")\n",
    "\n",
    "#initialize the counters\n",
    "firstChoiceMeetings = 0\n",
    "secondChoiceMeetings = 0\n",
    "thirdChoiceMeetings = 0\n",
    "\n",
    "# loop over the visitors\n",
    "for v in V\n",
    "    # loop over the periods\n",
    "    for t = 1:6\n",
    "        # check for an appointment with Prof. Freetime\n",
    "        if y[v,t] == 1 # visitor v is scheduled for free time during period t\n",
    "            schedule[v,t] = \"Prof. Freetime\"\n",
    "        else # look for a faculty meeting\n",
    "            f = findfirst(x[v,:,t])\n",
    "            if f == 0\n",
    "                println(\"Warning: Student $v was not scheduled for a meeting or free time during period $t.\\n\")\n",
    "            else \n",
    "                # put the faculty member f's name in the visitor's schedule\n",
    "                schedule[v,t] = facultyNames[f]\n",
    "                \n",
    "                # check for first choice\n",
    "                if c_1[v,f,t] == prefPoints(1)\n",
    "                    firstChoice[v] = \"Yes\"\n",
    "                    firstChoiceMeetings = firstChoiceMeetings + 1\n",
    "                elseif c_1[v,f,t] == prefPoints(2)\n",
    "                    secondChoice[v] = \"Yes\"\n",
    "                    secondChoiceMeetings = secondChoiceMeetings + 1\n",
    "                elseif c_1[v,f,t] == prefPoints(3)\n",
    "                    thirdChoice[v] = \"Yes\"\n",
    "                    thirdChoiceMeetings = thirdChoiceMeetings + 1\n",
    "                end\n",
    "            end\n",
    "            \n",
    "        end\n",
    "    end\n",
    "    \n",
    "    #compute this visitor's happiness\n",
    "    happiness[v] = sum(sum(c[v,:,:].*x[v,:,:]))/(sum(prefPoints(i) for i = 1:5) + w_meet*5)\n",
    "end"
   ]
  },
  {
   "cell_type": "code",
   "execution_count": 14,
   "metadata": {
    "collapsed": false,
    "deletable": true,
    "editable": true
   },
   "outputs": [],
   "source": [
    "# write the results to Excel\n",
    "using DataArrays, DataFrames\n",
    "visitorSchedule = DataFrame(Visitor_Name = visitorNames, Meeting_1 = schedule[:,1], Meeting_2 = schedule[:,2], Meeting_3 = schedule[:,3], Meeting_4 = schedule[:,4], Meeting_5 = schedule[:,5], Meeting_6 = schedule[:,6], Happiness_Fraction = happiness, First_Choice = firstChoice, Second_Choice = secondChoice, Third_Choice = thirdChoice)\n",
    "writetable(\"Visitor-Focused Output.csv\", visitorSchedule)"
   ]
  },
  {
   "cell_type": "markdown",
   "metadata": {
    "deletable": true,
    "editable": true
   },
   "source": [
    "## Export the Faculty-Focused Table"
   ]
  },
  {
   "cell_type": "code",
   "execution_count": 15,
   "metadata": {
    "collapsed": true,
    "deletable": true,
    "editable": true
   },
   "outputs": [],
   "source": [
    "# initialize the schedule\n",
    "schedule = Array{String,2}(n_F,n_T)\n",
    "fill!(schedule,\"\")\n",
    "\n",
    "# loop over the faculty\n",
    "for f in F\n",
    "    \n",
    "    # loop over the time periods\n",
    "    for t in T\n",
    "        \n",
    "        # look for a meeting with a student\n",
    "        v = findfirst(x[:,f,t])\n",
    "        \n",
    "        if v == 0 # no meeting was found\n",
    "            # check the faculty's availability\n",
    "            if A[f,t] == 1 # the faculty is available during this time slot\n",
    "                #indicate that this slot is open in the faculty's schedule\n",
    "                schedule[f,t] = \"FREE\"\n",
    "            end\n",
    "        else # a meeting was found\n",
    "            # fill in the appropriate cell of the schedule\n",
    "            schedule[f,t] = visitorNames[v]\n",
    "        end\n",
    "        \n",
    "    end\n",
    "end\n",
    "\n",
    "# write the results to Excel\n",
    "facultySchedule = DataFrame(Faculty = facultyNames, Meeting_1 = schedule[:,1], Meeting_2 = schedule[:,2], Meeting_3 = schedule[:,3], Meeting_4 = schedule[:,4], Meeting_5 = schedule[:,5], Meeting_6 = schedule[:,6])\n",
    "writetable(\"Faculty-Focused Output.csv\", facultySchedule)"
   ]
  },
  {
   "cell_type": "markdown",
   "metadata": {
    "deletable": true,
    "editable": true
   },
   "source": [
    "# Calculate some Statistics"
   ]
  },
  {
   "cell_type": "code",
   "execution_count": 16,
   "metadata": {
    "collapsed": false,
    "deletable": true,
    "editable": true,
    "scrolled": false
   },
   "outputs": [
    {
     "name": "stdout",
     "output_type": "stream",
     "text": [
      "The fraction of visitors who will meet with their first choice is: 0.6666666666666666\n",
      "The fraction of visitors who will meet with their second choice is: 0.5\n",
      "The fraction of visitors who will meet with their third choice is: 0.6111111111111112\n",
      "The average happiness fraction is: 0.66\n",
      "The minimum happiness fraction is: 0.33\n"
     ]
    }
   ],
   "source": [
    "# calculate some fractions\n",
    "firstChoiceFraction = firstChoiceMeetings/n_V\n",
    "secondChoiceFraction = secondChoiceMeetings/n_V\n",
    "thirdChoiceFraction = thirdChoiceMeetings/n_V\n",
    "\n",
    "minHappinessFraction = round(minimum(happiness),2)\n",
    "avgHappinessFraction = round(mean(happiness),2)\n",
    "\n",
    "# print the results\n",
    "println(\"The fraction of visitors who will meet with their first choice is: $firstChoiceFraction\")\n",
    "println(\"The fraction of visitors who will meet with their second choice is: $secondChoiceFraction\")\n",
    "println(\"The fraction of visitors who will meet with their third choice is: $thirdChoiceFraction\")\n",
    "\n",
    "println(\"The average happiness fraction is: $avgHappinessFraction\")\n",
    "println(\"The minimum happiness fraction is: $minHappinessFraction\")"
   ]
  },
  {
   "cell_type": "code",
   "execution_count": null,
   "metadata": {
    "collapsed": true,
    "deletable": true,
    "editable": true
   },
   "outputs": [],
   "source": []
  }
 ],
 "metadata": {
  "anaconda-cloud": {},
  "kernelspec": {
   "display_name": "Julia 0.5.0",
   "language": "julia",
   "name": "julia-0.5"
  },
  "language_info": {
   "file_extension": ".jl",
   "mimetype": "application/julia",
   "name": "julia",
   "version": "0.5.0"
  }
 },
 "nbformat": 4,
 "nbformat_minor": 2
}
