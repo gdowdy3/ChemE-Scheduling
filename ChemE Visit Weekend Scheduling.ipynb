{
 "cells": [
  {
   "cell_type": "markdown",
   "metadata": {},
   "source": [
    "# Introduction\n",
    "This notebook was created by Garrett R. Dowdy (gdowdy3@gmail.com) to ease the process of scheduling meetings between visitors and faculty during the ChemE Recruiting Weekends.\n",
    "\n",
    "The notebook consists of a series of gray boxes (\"cells\") containing code.\n",
    "The cells are divided up into sections by bold headers  -- \"Introduction\", \"Setup\", and so on.\n",
    "Many of these headers are accompanied by explanatory text.\n",
    "\n",
    "To run this code:\n",
    "\n",
    "1. Verify that the \"Visitor Preferences.csv\" and \"Faculty Availability.csv\" files have been uploaded to the same JuliaBox folder as the .pynb file that you clicked to open this notebook. Note: the spelling of the .csv files must be *exact*.\n",
    "2. On the menu bar above, select **Cell** --> **All Output** --> **Clear**\n",
    "3. Moving down the document, run each cell in sequence,  reading the explanatory text and checking for errors as you go.\n",
    "4. Check the summary statistics printed by the final cell.\n",
    "5. Check the output csv files added to the current JuliaBox folder (see previous tab in your browser).\n",
    "6. If you are happy with the results, great!  If not, tweak the objective weights in the \"Define the Objective Function\" section and the parameters in the \"Define the Constraints\" section, and start over, returning to Step 2.\n",
    "7. You can exit this notebook gracefully by selecting **File** --> **Close and Halt**.\n",
    "\n",
    "A cell is run by clicking in the gray box and then pressing [ctrl] + [enter] on your keyboard. \n",
    "You will know that a cell is executed when the \"In[ ]\" to its left is replaced with \"In[#]\", where \"#\" is a number. \n",
    "\"In[\\*]\" indicates that the cell is currently executing.  You can use the up and down arrow keys to move between cells."
   ]
  },
  {
   "cell_type": "code",
   "execution_count": null,
   "metadata": {
    "collapsed": false,
    "deletable": true,
    "editable": true
   },
   "outputs": [],
   "source": [
    "# UPDATE LOG\n",
    "# Iteration    Date          Changes\n",
    "#-------------------------------------------------------------------------------------------------------------------------------\n",
    "# 1            22-Feb-2017    First attempt at code.\n",
    "#\n",
    "# 2            24-Feb-2017    Added the objective of maximizing the minimum happiness.\n",
    "#                             Added the objective that a meeting with *someone* is better than a meeting with no one.\n",
    "#\n",
    "# 3            26-Feb-2017    Changed the mapping between the choice rank and happiness points so that more points are given to the top choices.\n",
    "#                             Added a faculty-focused output.\n",
    "#                             Changed \"Student Preferences\" to \"Visitor Preferences\" for consistency.\n",
    "#\n",
    "# 4            14-Mar-2017    Changed the expected format of the \"Faculty Availability\" file so that it has higher resolution.\n",
    "#                             Reverted back to a straight-forward happiness \"score\" instead of happiness fraction, because the fraction had some weird behavior when I varied the min/max free time periods.\n",
    "#\n",
    "# 5             9-Apr-2017    Changed the maximum on the number of free periods to a minimum number of faculty meetings\n",
    "\n",
    "# Potential Improvements\n",
    "# - Add automatic detection and correction of NA rows.\n",
    "# - Add automatic minimizing the gap between largest and smallest number of meetings"
   ]
  },
  {
   "cell_type": "markdown",
   "metadata": {},
   "source": [
    "# Set Up\n",
    "## Add Packages\n",
    "The code makes use of several \"packages\".  Before using these packages we have to add them.  You don't have to do this every time you run the code, just once, the first time you run the code."
   ]
  },
  {
   "cell_type": "code",
   "execution_count": null,
   "metadata": {
    "collapsed": false
   },
   "outputs": [],
   "source": [
    "# #Add packages as necessary\n",
    "# Pkg.update()\n",
    "# Pkg.add(\"JuMP\")\n",
    "# Pkg.add(\"Clp\")\n",
    "# Pkg.add(\"DataFrames\")"
   ]
  },
  {
   "cell_type": "markdown",
   "metadata": {
    "deletable": true,
    "editable": true
   },
   "source": [
    "## Define Helper Functions\n",
    "The code makes use of some custom-made functions. So that they don't disrupt the flow of logic in the body of the code below, it is best to define them here.\n",
    "\n",
    "If, when running the cells in this section, you see a warning that looks something like\n",
    "\n",
    ">Warning: Method definition [function name] in module Main at In[#] overwritten...\n",
    "\n",
    "that's totally fine.\n",
    "It just means that you defined the function multiple times, unnecessarily."
   ]
  },
  {
   "cell_type": "code",
   "execution_count": null,
   "metadata": {
    "collapsed": false,
    "deletable": true,
    "editable": true
   },
   "outputs": [],
   "source": [
    "function prefPoints(choice::Int64)\n",
    "    # This function assigns a specific \"happiness point\" value to the meeting with a visitor's (choice)th choice faculty\n",
    "    #\n",
    "    # Input:\n",
    "    #  choice = a positive integer specify the ranking of a faculty member in a student's mind.  For example, if Prof. Barton is visitor Johnny's first choice, then choice = 1.  Furthermore, if Prof. Braatz is Johnny's second choice, then choice = 2, and so on.\n",
    "    #\n",
    "    # Output:\n",
    "    #  points = the happiness point value associated with giving Johnny a meeting with his (choice)th choice professor.\n",
    "    \n",
    "    # calculate the number of points\n",
    "    points = (10 - choice + 1)^2\n",
    "    \n",
    "    return points\n",
    "end"
   ]
  },
  {
   "cell_type": "markdown",
   "metadata": {
    "deletable": true,
    "editable": true
   },
   "source": [
    "# Read in the Problem Data\n",
    "There are two sources of data which define the problem:\n",
    "\n",
    "1. A csv file describing the visitors: \"Visitor Preferences.csv\".\n",
    "2. A csv file describing the faculty: \"Faculty Availability.csv\".\n",
    "\n",
    "In this section of the code, these two data files are imported and interpreted.\n",
    "\n",
    "Executing the following two cells displays the top and bottom portions of the interviewer information input table.  Check the display to make sure there isn't any funny business going on.\n",
    "In particular, make sure that the very last row of each displayed table isn't entirely \"NA NA ... NA\", because this will cause problems.\n",
    "If you see this, go to the appropriate .csv file and delete the entire row corresponding to the \"NA NA ... NA\" values.\n",
    "It's OK if \"NA\" appears at random places in the display.\n",
    "You just want to make sure you don't have an entire row of \"NA\"."
   ]
  },
  {
   "cell_type": "markdown",
   "metadata": {},
   "source": [
    "## Read in the faculty availability"
   ]
  },
  {
   "cell_type": "code",
   "execution_count": null,
   "metadata": {
    "collapsed": false,
    "deletable": true,
    "editable": true
   },
   "outputs": [],
   "source": [
    "# Read in the faculty availability\n",
    "using DataFrames, DataArrays\n",
    "raw = readtable(\"Faculty Availability.csv\")"
   ]
  },
  {
   "cell_type": "code",
   "execution_count": null,
   "metadata": {
    "collapsed": false,
    "deletable": true,
    "editable": true
   },
   "outputs": [],
   "source": [
    "DataFrames.tail(raw)"
   ]
  },
  {
   "cell_type": "code",
   "execution_count": null,
   "metadata": {
    "collapsed": false,
    "deletable": true,
    "editable": true
   },
   "outputs": [],
   "source": [
    "# describe the input table\n",
    "nameCol = 1\n",
    "firstAvailabilityCol = 2\n",
    "lastAvailabilityCol = 9\n",
    "\n",
    "# count the number of faculty\n",
    "n_F = size(raw,1)\n",
    "F = 1:n_F\n",
    "\n",
    "# extract the faculty namese\n",
    "facultyNames = raw[:,nameCol]\n",
    "\n",
    "# count the number of time periods\n",
    "n_T = lastAvailabilityCol - firstAvailabilityCol + 1\n",
    "T = 1:n_T\n",
    "\n",
    "# define the subset of time periods that overlap with the TG\n",
    "T_TG = (n_T - 1):n_T\n",
    "\n",
    "# initialize the availability matrix\n",
    "A = zeros(Int64,n_F,n_T)\n",
    "\n",
    "# extract each faculty member's availability\n",
    "for f in F\n",
    "    for t in T\n",
    "        if typeof(raw[f,firstAvailabilityCol + t - 1])== Int64 && raw[f, firstAvailabilityCol + t - 1] == 1\n",
    "            A[f,t] = 1\n",
    "        end\n",
    "    end\n",
    "end"
   ]
  },
  {
   "cell_type": "markdown",
   "metadata": {},
   "source": [
    "## Read in the visitor preferences\n",
    "The last cell in this section will check each faculty name given in \"Visitor Preferences.csv\" and make sure that this name also appears in \"Faculty Availability.csv\".\n",
    "If the name is not found, the code will print out a warning."
   ]
  },
  {
   "cell_type": "code",
   "execution_count": null,
   "metadata": {
    "collapsed": false,
    "deletable": true,
    "editable": true
   },
   "outputs": [],
   "source": [
    "# Read in the student preferences\n",
    "raw = readtable(\"Visitor Preferences.csv\")"
   ]
  },
  {
   "cell_type": "code",
   "execution_count": null,
   "metadata": {
    "collapsed": false,
    "deletable": true,
    "editable": true
   },
   "outputs": [],
   "source": [
    "DataFrames.tail(raw)"
   ]
  },
  {
   "cell_type": "code",
   "execution_count": null,
   "metadata": {
    "collapsed": false,
    "deletable": true,
    "editable": true
   },
   "outputs": [],
   "source": [
    "# describe the input table\n",
    "nameCol = 1;\n",
    "firstPrefCol = 2;\n",
    "\n",
    "# count the number of volunteers\n",
    "n_V = size(raw,1);\n",
    "V = 1:n_V\n",
    "\n",
    "# extract the visitors' names\n",
    "visitorNames = Array{String,1}(n_V);\n",
    "for v in V\n",
    "    visitorNames[v] = raw[v,nameCol]\n",
    "end\n",
    "\n",
    "# initialize the preference matrix \n",
    "P = zeros(Int64,n_V,n_F)\n",
    "\n",
    "# fill out the preference matrix\n",
    "for v in V\n",
    "    \n",
    "    # loop over each visitor's list of names\n",
    "    for c = 1:10\n",
    "        # extract the name corresponding to the cth choice\n",
    "        curName = raw[v,firstPrefCol + c - 1]\n",
    "        \n",
    "        # check for a string\n",
    "        if typeof(curName) == String\n",
    "        \n",
    "            # find the index corresponding to the current faculty member\n",
    "            f = 1\n",
    "            nameFound = false\n",
    "            while nameFound == false && f <= n_F\n",
    "                # extract the faculty name corresponding to f\n",
    "                facName = facultyNames[f]\n",
    "\n",
    "                #compare the two strings\n",
    "                if contains(facName,curName) == true # a match has been found\n",
    "\n",
    "                    #raise the nameFound flag\n",
    "                    nameFound = true\n",
    "\n",
    "                else # no match has been found\n",
    "\n",
    "                    #increment fInd and move on\n",
    "                    f = f + 1         \n",
    "                end\n",
    "\n",
    "            end # ends the while loop\n",
    "\n",
    "            #decide why we exited the while loop\n",
    "            if nameFound == true # the name was found\n",
    "                # update the preference matrix\n",
    "                P[v,f] = prefPoints(c)\n",
    "            else #the name was not found\n",
    "                visName = visitorNames[v]\n",
    "                println(\"Warning: Visitor '$visName' requested a meeting with '$curName', but I can't find this string in the faculty list.  I will skip over this. Please double-check the spelling.\\n\")\n",
    "            end\n",
    "        else # this is an empty cell\n",
    "            #do nothing for this c\n",
    "        end  #ends the split checking for a valid string\n",
    "        \n",
    "    end\n",
    "end"
   ]
  },
  {
   "cell_type": "markdown",
   "metadata": {
    "deletable": true,
    "editable": true
   },
   "source": [
    "# Define and Solve the Optimization Problem\n",
    "## Initialize the Model and Define the Decision Variables"
   ]
  },
  {
   "cell_type": "code",
   "execution_count": null,
   "metadata": {
    "collapsed": false,
    "deletable": true,
    "editable": true
   },
   "outputs": [],
   "source": [
    "# Describe the Optimization Problem\n",
    "using JuMP\n",
    "using Cbc\n",
    "# using Gurobi\n",
    "\n",
    "m = Model(solver = CbcSolver())\n",
    "\n",
    "## define the decision variables\n",
    "@variable(m, x[1:n_V,1:n_F,1:n_T],Bin)\n",
    "@variable(m, y[1:n_V,1:n_T],Bin)\n",
    "@variable(m, h);"
   ]
  },
  {
   "cell_type": "markdown",
   "metadata": {
    "deletable": true,
    "editable": true
   },
   "source": [
    "## Define the Constraints\n",
    "Here is where you specify the minimum number of faculty meetings and minimum number of free periods for each visitor.\n",
    "\n",
    "Be careful not to be too demanding here.\n",
    "There are 8 time periods, so, for example, if you specify a minimum of 6 faculty meetings and a minimum of 3 free periods, the code will of course not be able to find a feasible schedule.\n",
    "In general, the sum of the specified minimums can be at most 8.\n",
    "\n",
    "Also, depending on the number of visitors and the availability of the faculty, it may not be possible to specify the minimum number of faculty meetings as high as you'd like.\n",
    "For example, if there are 30 visitors and a total of 112 time periods that faculty are available to meet, you cannot require that each visitor has a minimum of 4 faculty meetings, because $30 \\times 4 = 120 > 112$.\n",
    "If you make the minimum number of required faculty meetings too high, the code will return \"Infeasible\".\n",
    "If that happens, just reduce the minimum required faculty meetings and try again."
   ]
  },
  {
   "cell_type": "code",
   "execution_count": null,
   "metadata": {
    "collapsed": false,
    "deletable": true,
    "editable": true
   },
   "outputs": [],
   "source": [
    "##########################################################\n",
    "# Specify the minimums\n",
    "minFacultyMeetings = 4   # <-- You can modify this number\n",
    "minFreePeriods = 3       # <-- You can modify this number\n",
    "##########################################################\n",
    "\n",
    "# define the constraints\n",
    "## constraint 1\n",
    "for v in V, t in T\n",
    "   @constraint(m, sum(x[v,:,t]) + y[v,t] == 1) \n",
    "end\n",
    "\n",
    "## constraint 2\n",
    "for f in F, t in T\n",
    "   @constraint(m, sum(x[:,f,t]) <= 1) \n",
    "end\n",
    "\n",
    "## constraint 3\n",
    "for f in F, t in T\n",
    "   @constraint(m, sum(x[:,f,t]) <= A[f,t]) \n",
    "end\n",
    "\n",
    "## constraint 4\n",
    "for v in V, f in F\n",
    "   @constraint(m, sum(x[v,f,:]) <= 1) \n",
    "end\n",
    "\n",
    "## constraint 5\n",
    "for v in V\n",
    "   @constraint(m, sum(y[v,:]) >= minFreePeriods) \n",
    "end\n",
    "\n",
    "## constraint 6\n",
    "for v in V\n",
    "    @constraint(m, sum(x[v,:,:]) >= minFacultyMeetings) \n",
    "end\n",
    "\n",
    "# ## constraint 6\n",
    "# maxFreePeriods = 4\n",
    "# for v in V\n",
    "#     @constraint(m, sum(y[v,:]) <= maxFreePeriods) \n",
    "# end\n",
    "\n",
    "## constraint 7\n",
    "for v in V\n",
    "   @constraint(m, sum(x[v,f,t].*P[v,f] for f in F, t in T) >= h) \n",
    "end\n",
    "    \n",
    "## constraint 8\n",
    "for v in V\n",
    "    @constraint(m, sum(x[v,f,t] for f in F, t in T_TG) <= 1) \n",
    "end"
   ]
  },
  {
   "cell_type": "markdown",
   "metadata": {
    "deletable": true,
    "editable": true
   },
   "source": [
    "## Define the Objective Function\n",
    "The objective function has several weighting coefficients, $w_\\text{pref}, w_\\text{meet}$, and $w_\\text{min}$.\n",
    "Each of these coefficients corresponds to a particular objective.\n",
    "\n",
    "| Weighting Coefficient | Suggested Value | Objective |\n",
    "|:---------------------:|:---------------:|-----------|\n",
    "| $w_\\text{pref}$       | 1               | Give the visitors meetings with their preferred faculty.     |\n",
    "| $w_\\text{meet}$       | 1               | It's better to have a meeting with a random faculty member than no meeting at all. |\n",
    "| $w_\\text{min}$        | 5               | Maximize the minimum level of happiness.     |\n",
    "\n",
    "You can set the values of these coefficients in the code below. \n",
    "Each coefficient most be nonnegative (i.e., $w_i \\geq 0$).\n",
    "**The greater the value of the coefficient, the harder the code will try to accomplish the corresponding objective.** That being said, if you double each coefficient, it will make no difference to the code, because it is really the *ratios* between them that matter.\n",
    "\n",
    "Manipulating these weighting coefficients will very likely effect the summary statistics and schedule produced by the code, but small changes in the weights may have no effect."
   ]
  },
  {
   "cell_type": "code",
   "execution_count": null,
   "metadata": {
    "collapsed": false,
    "deletable": true,
    "editable": true
   },
   "outputs": [],
   "source": [
    "###################################################################\n",
    "# specify the weighting factors for the objectives\n",
    "w_pref = 1  # <-- You can modify these numbers\n",
    "w_meet = 1  # <-- You can modify these numbers\n",
    "w_min = 5   # <-- You can modify these numbers\n",
    "###################################################################\n",
    "\n",
    "# construct the objective coefficient matrices\n",
    "c_1 = zeros(n_V,n_F,n_T)\n",
    "for v in V, f in F\n",
    "    c_1[v,f,:] =w_pref*P[v,f]\n",
    "end\n",
    "\n",
    "c_2 = zeros(n_V,n_F,n_T)\n",
    "for v in V, f in F\n",
    "    c_2[v,f,:] = w_meet\n",
    "end\n",
    "\n",
    "c_3 = w_min\n",
    "\n",
    "c = c_1 + c_2\n",
    "\n",
    "# define the objective function\n",
    "@objective(m,Max,sum(sum(sum(c.*x))) + c_3*h);"
   ]
  },
  {
   "cell_type": "markdown",
   "metadata": {
    "deletable": true,
    "editable": true
   },
   "source": [
    "## Solve the Optimization Problem\n",
    "Running this cell could take anywhere from a few seconds to a few minutes, after which time it will display one word:\n",
    "\n",
    "> Optimal\n",
    "\n",
    "If the code has been running for more than 20 minutes, there's probably something wrong.  Contact Garrett."
   ]
  },
  {
   "cell_type": "code",
   "execution_count": null,
   "metadata": {
    "collapsed": false,
    "deletable": true,
    "editable": true
   },
   "outputs": [],
   "source": [
    "# Solve the Optimization Problem\n",
    "status = solve(m)\n",
    "println(status)\n",
    "\n",
    "# extract the numerical solution\n",
    "x = round(Int,getvalue(x))\n",
    "y = round(Int,getvalue(y));\n"
   ]
  },
  {
   "cell_type": "markdown",
   "metadata": {
    "deletable": true,
    "editable": true
   },
   "source": [
    "# Export the Results\n",
    "The following two subsections construct two different outputs showing the suggested meeting schedule.\n",
    "The first of these outputs, \"Visitor-Focused Output.csv\", shows the schedule for each visitor.\n",
    "The second, \"Faculty-Focused Output.csv\", shows the schedule for each faculty member.\n",
    "Both files will be exported to the JuliaBox directory from which you are running this code.\n",
    "## Export Visitor-Focused Table"
   ]
  },
  {
   "cell_type": "code",
   "execution_count": null,
   "metadata": {
    "collapsed": false,
    "deletable": true,
    "editable": true
   },
   "outputs": [],
   "source": [
    "# initialize the schedule\n",
    "schedule = Array{String,2}(n_V,n_T)\n",
    "happiness = zeros(Float64,n_V)\n",
    "numMeetings = zeros(Float64,n_V)\n",
    "firstChoice = Array{String,1}(n_V)\n",
    "secondChoice = Array{String,1}(n_V)\n",
    "thirdChoice = Array{String,1}(n_V)\n",
    "fill!(firstChoice,\"\")\n",
    "fill!(secondChoice,\"\")\n",
    "fill!(thirdChoice,\"\")\n",
    "\n",
    "#initialize the counters\n",
    "firstChoiceMeetings = 0\n",
    "secondChoiceMeetings = 0\n",
    "thirdChoiceMeetings = 0\n",
    "\n",
    "# loop over the visitors\n",
    "for v in V\n",
    "    # loop over the periods\n",
    "    for t = 1:n_T\n",
    "        # check for an appointment with Prof. Freetime\n",
    "        if y[v,t] == 1 # visitor v is scheduled for free time during period t\n",
    "            schedule[v,t] = \"Prof. Freetime\"\n",
    "        else # look for a faculty meeting\n",
    "            f = findfirst(x[v,:,t])\n",
    "            if f == 0\n",
    "                println(\"Warning: Student $v was not scheduled for a meeting or free time during period $t.\\n\")\n",
    "            else \n",
    "                # put the faculty member f's name in the visitor's schedule\n",
    "                schedule[v,t] = facultyNames[f]\n",
    "                \n",
    "                # increment the number of meetings\n",
    "                numMeetings[v] = numMeetings[v] + 1\n",
    "                \n",
    "                # check for first choice\n",
    "                if c_1[v,f,t] == prefPoints(1)\n",
    "                    firstChoice[v] = \"Yes\"\n",
    "                    firstChoiceMeetings = firstChoiceMeetings + 1\n",
    "                elseif c_1[v,f,t] == prefPoints(2)\n",
    "                    secondChoice[v] = \"Yes\"\n",
    "                    secondChoiceMeetings = secondChoiceMeetings + 1\n",
    "                elseif c_1[v,f,t] == prefPoints(3)\n",
    "                    thirdChoice[v] = \"Yes\"\n",
    "                    thirdChoiceMeetings = thirdChoiceMeetings + 1\n",
    "                end\n",
    "            end\n",
    "            \n",
    "        end\n",
    "    end\n",
    "    \n",
    "    #compute this visitor's happiness\n",
    "    happiness[v] = sum(sum((c[v,:,:]+w_meet).*x[v,:,:]))/(sum(prefPoints(i) for i = 1:(n_T - minFreePeriods)) + w_meet*(n_T - minFreePeriods))\n",
    "    happiness[v] = sum(sum((c[v,:,:]+w_meet).*x[v,:,:]))\n",
    "end"
   ]
  },
  {
   "cell_type": "code",
   "execution_count": null,
   "metadata": {
    "collapsed": false,
    "deletable": true,
    "editable": true
   },
   "outputs": [],
   "source": [
    "# write the results to Excel\n",
    "using DataArrays, DataFrames\n",
    "visitorSchedule = DataFrame(Visitor_Name = visitorNames, Meeting_1 = schedule[:,1], Meeting_2 = schedule[:,2], Meeting_3 = schedule[:,3], Meeting_4 = schedule[:,4], Meeting_5 = schedule[:,5], Meeting_6 = schedule[:,6], Meeting_7 = schedule[:,7], Meeting_8 = schedule[:,8], Happiness_Score = happiness, First_Choice = firstChoice, Second_Choice = secondChoice, Third_Choice = thirdChoice)\n",
    "writetable(\"Visitor-Focused Output.csv\", visitorSchedule)"
   ]
  },
  {
   "cell_type": "markdown",
   "metadata": {
    "deletable": true,
    "editable": true
   },
   "source": [
    "## Export the Faculty-Focused Table"
   ]
  },
  {
   "cell_type": "code",
   "execution_count": null,
   "metadata": {
    "collapsed": true,
    "deletable": true,
    "editable": true
   },
   "outputs": [],
   "source": [
    "# initialize the schedule\n",
    "schedule = Array{String,2}(n_F,n_T)\n",
    "fill!(schedule,\"\")\n",
    "\n",
    "# loop over the faculty\n",
    "for f in F\n",
    "    \n",
    "    # loop over the time periods\n",
    "    for t in T\n",
    "        \n",
    "        # look for a meeting with a student\n",
    "        v = findfirst(x[:,f,t])\n",
    "        \n",
    "        if v == 0 # no meeting was found\n",
    "            # check the faculty's availability\n",
    "            if A[f,t] == 1 # the faculty is available during this time slot\n",
    "                #indicate that this slot is open in the faculty's schedule\n",
    "                schedule[f,t] = \"FREE\"\n",
    "            end\n",
    "        else # a meeting was found\n",
    "            # fill in the appropriate cell of the schedule\n",
    "            schedule[f,t] = visitorNames[v]\n",
    "        end\n",
    "        \n",
    "    end\n",
    "end\n",
    "\n",
    "# write the results to Excel\n",
    "facultySchedule = DataFrame(Faculty = facultyNames, Meeting_1 = schedule[:,1], Meeting_2 = schedule[:,2], Meeting_3 = schedule[:,3], Meeting_4 = schedule[:,4], Meeting_5 = schedule[:,5], Meeting_6 = schedule[:,6], Meeting_7 = schedule[:,7], Meeting_8 = schedule[:,8])\n",
    "writetable(\"Faculty-Focused Output.csv\", facultySchedule)"
   ]
  },
  {
   "cell_type": "markdown",
   "metadata": {
    "deletable": true,
    "editable": true
   },
   "source": [
    "# Calculate some Statistics\n",
    "This code prints some statistics that give you a sense of the quality of the schedule generated."
   ]
  },
  {
   "cell_type": "code",
   "execution_count": null,
   "metadata": {
    "collapsed": false,
    "deletable": true,
    "editable": true,
    "scrolled": false
   },
   "outputs": [],
   "source": [
    "# calculate some fractions\n",
    "firstChoiceFraction = firstChoiceMeetings/n_V\n",
    "secondChoiceFraction = secondChoiceMeetings/n_V\n",
    "thirdChoiceFraction = thirdChoiceMeetings/n_V\n",
    "\n",
    "minHappinessScore = round(minimum(happiness),2)\n",
    "avgHappinessScore = round(mean(happiness),2)\n",
    "maxHappinessScore = round(maximum(happiness),2)\n",
    "\n",
    "minMeetings = minimum(numMeetings)\n",
    "avgMeetings = round(mean(numMeetings),2)\n",
    "maxMeetings = maximum(numMeetings)\n",
    "\n",
    "\n",
    "# print the results\n",
    "println(\"The fraction of visitors who will meet with their first choice is: $firstChoiceFraction\")\n",
    "println(\"The fraction of visitors who will meet with their second choice is: $secondChoiceFraction\")\n",
    "println(\"The fraction of visitors who will meet with their third choice is: $thirdChoiceFraction\")\n",
    "println(\"\")\n",
    "println(\"The average happiness score is: $avgHappinessScore\")\n",
    "println(\"The minimum happiness score is: $minHappinessScore\")\n",
    "println(\"The maximum happiness score is: $maxHappinessScore\")\n",
    "println(\"\")\n",
    "println(\"The average number of meetings is: $avgMeetings\")\n",
    "println(\"The minimum number of meetings is: $minMeetings\")\n",
    "println(\"The maximum number of meetings is: $maxMeetings\")"
   ]
  },
  {
   "cell_type": "markdown",
   "metadata": {
    "collapsed": true
   },
   "source": [
    "# The End\n",
    "If you like what you see, go back to the other tab in your browser which shows the JuliaBox file directory.\n",
    "From there, you can download the two output files, following the instructions in the \"Using the ChemE Visit Weekend Scheduling Code\" document.\n",
    "\n",
    "If you don't like what you see, return to the instructions at the top."
   ]
  }
 ],
 "metadata": {
  "anaconda-cloud": {},
  "kernelspec": {
   "display_name": "Julia 0.5.0",
   "language": "julia",
   "name": "julia-0.5"
  },
  "language_info": {
   "file_extension": ".jl",
   "mimetype": "application/julia",
   "name": "julia",
   "version": "0.5.0"
  }
 },
 "nbformat": 4,
 "nbformat_minor": 2
}
